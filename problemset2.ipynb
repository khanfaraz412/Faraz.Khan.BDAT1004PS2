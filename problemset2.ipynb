{
 "cells": [
  {
   "cell_type": "markdown",
   "id": "3a03f533",
   "metadata": {},
   "source": [
    "Q.1 Consider the following Python module:\n",
    "a = 0\n",
    "def b():\n",
    "global a\n",
    "a = c(a)\n",
    "def c(a):\n",
    "return a + 2\n",
    "After importing the module into the interpreter, you execute:\n",
    ">>> b()\n",
    ">>> b()\n",
    ">>> b()\n",
    ">>> a\n",
    "?"
   ]
  },
  {
   "cell_type": "code",
   "execution_count": 390,
   "id": "f4fc26d4",
   "metadata": {},
   "outputs": [
    {
     "data": {
      "text/plain": [
       "6"
      ]
     },
     "execution_count": 390,
     "metadata": {},
     "output_type": "execute_result"
    }
   ],
   "source": [
    "a = 0\n",
    "def b():\n",
    "    global a\n",
    "    a = c(a)\n",
    "def c(a):\n",
    "    return a + 2\n",
    "b()\n",
    "b()\n",
    "b()\n",
    "a\n"
   ]
  },
  {
   "cell_type": "markdown",
   "id": "2f25c339",
   "metadata": {},
   "source": [
    "a=0 Initialization. It will go in function b and then value of a will be c(0) in function b. a is global. function c(0) will return 2. b() does not return anything as no argument is given b(). Now a will store 2, and then same procedure will be continued and return 4 in the end. Now, a = 4 and finally when we print a, which gets to a+2, it returns 6. \n"
   ]
  },
  {
   "cell_type": "markdown",
   "id": "b1e83c0e",
   "metadata": {},
   "source": [
    "Q.2. Function fileLength(), given to you, takes the name of a file as input and returns the length of the file:\n",
    ">>> fileLength('midterm.py') 284 >>> fileLength('idterm.py') Traceback (most recent call last): File \"<pyshell#34>\", line 1, in <module> fileLength('idterm.py') File \"/Users/me/midterm.py\", line 3, in fileLength infile = open(filename) FileNotFoundError: [Errno 2] No such file or directory: 'idterm.py'\n",
    "As shown above, if the file cannot be found by the interpreter or if it cannot be read as a text file, an exception will be raised. Modify function fileLength() so that a friendly message is printed instead:"
   ]
  },
  {
   "cell_type": "code",
   "execution_count": 392,
   "id": "7afc9dce",
   "metadata": {},
   "outputs": [
    {
     "name": "stdout",
     "output_type": "stream",
     "text": [
      "118763\n"
     ]
    }
   ],
   "source": [
    "def file_length(filename):\n",
    "    file = open('Week 05 Lecture.ipynb')\n",
    "    contents = file.read()\n",
    "    file.close()\n",
    "    print(len(contents))\n",
    "file_length('Week 05 Lecture.ipynb')"
   ]
  },
  {
   "cell_type": "code",
   "execution_count": 33,
   "id": "48ffe21c",
   "metadata": {},
   "outputs": [
    {
     "name": "stdout",
     "output_type": "stream",
     "text": [
      "File eek 05 Lecture.ipynb not found\n"
     ]
    }
   ],
   "source": [
    "def file_length(filename):\n",
    "    try:\n",
    "        file = open('eek 05 Lecture.ipynb')\n",
    "        contents = file.read()\n",
    "        file.close()\n",
    "        print(len(contents))\n",
    "    except:\n",
    "        print(\"File eek 05 Lecture.ipynb not found\")\n",
    "file_length('eek 05 Lecture.ipynb')"
   ]
  },
  {
   "cell_type": "markdown",
   "id": "2099622f",
   "metadata": {},
   "source": [
    "Q.3. Write a class named Marsupial that can be used as shown below: >>> m = Marsupial() >>> m.put_in_pouch('doll') >>> m.put_in_pouch('firetruck') >>> m.put_in_pouch('kitten') >>> m.pouch_contents() ['doll', 'firetruck', 'kitten']\n",
    "Now write a class named Kangaroo as a subclass of Marsupial that inherits all the attributes of Marsupial and also:\n",
    "a. extends the Marsupial __init__ constructor to take, as input, the coordinates x and y of the Kangaroo object,\n",
    "b. supports method jump that takes number values dx and dy as input and moves the kangaroo by dx units along the x-axis and by dy units along the y-axis, and\n",
    "c. overloads the __str__ operator so it behaves as shown below.\n",
    ">>> k = Kangaroo(0,0) >>> print(k) I am a Kangaroo located at coordinates (0,0) >>> k.put_in_pouch('doll') >>> k.put_in_pouch('firetruck') >>> k.put_in_pouch('kitten') >>> k.pouch_contents() ['doll', 'firetruck', 'kitten'] >>> k.jump(1,0) >>> k.jump(1,0) >>> k.jump(1,0) >>> print(k) I am a Kangaroo located at coordinates (3,0)\n"
   ]
  },
  {
   "cell_type": "code",
   "execution_count": 7,
   "id": "61c2a134",
   "metadata": {},
   "outputs": [
    {
     "data": {
      "text/plain": [
       "['doll', 'firetruck', 'kitten']"
      ]
     },
     "execution_count": 7,
     "metadata": {},
     "output_type": "execute_result"
    }
   ],
   "source": [
    "class Marsupial:\n",
    "    def __init__(self):\n",
    "        self.pouch_content = []\n",
    "            \n",
    "    def put_in_pouch(self, pouch):\n",
    "        self.pouch_content.append(pouch)\n",
    "        return self.pouch_content\n",
    "    \n",
    "    def pouch_contents(self):\n",
    "        return self.pouch_content\n",
    "\n",
    "m = Marsupial()\n",
    "m.put_in_pouch('doll')\n",
    "m.put_in_pouch('firetruck')\n",
    "m.put_in_pouch('kitten')\n",
    "m.pouch_contents()\n",
    "\n"
   ]
  },
  {
   "cell_type": "code",
   "execution_count": 8,
   "id": "42f52ed0",
   "metadata": {},
   "outputs": [
    {
     "name": "stdout",
     "output_type": "stream",
     "text": [
      "I am a Kangaroo located at coordinates 0,0\n"
     ]
    },
    {
     "data": {
      "text/plain": [
       "['doll', 'firetruck', 'kitten']"
      ]
     },
     "execution_count": 8,
     "metadata": {},
     "output_type": "execute_result"
    }
   ],
   "source": [
    "\n",
    "class Kangaroo(Marsupial):\n",
    "    def __init__(self,xcoord,ycoord):\n",
    "        Marsupial.__init__(self)\n",
    "        self.xcoord = xcoord\n",
    "        self.ycoord = ycoord\n",
    "        \n",
    "        \n",
    "    def __str__(self):\n",
    "        \n",
    "       \n",
    "        return \"I am a Kangaroo located at coordinates {},{}\".format(self.xcoord, self.ycoord)\n",
    "    \n",
    "    def jump(self, dx, dy):\n",
    "    \n",
    "        self.xcoord += dx\n",
    "        self.ycoord += dy\n",
    "         \n",
    "    \n",
    "k = Kangaroo(0,0)\n",
    "print(k)\n",
    "k.put_in_pouch('doll')\n",
    "k.put_in_pouch('firetruck')\n",
    "k.put_in_pouch('kitten')\n",
    "k.pouch_contents()\n"
   ]
  },
  {
   "cell_type": "code",
   "execution_count": 9,
   "id": "fda86427",
   "metadata": {},
   "outputs": [
    {
     "name": "stdout",
     "output_type": "stream",
     "text": [
      "I am a Kangaroo located at coordinates 3,0\n"
     ]
    }
   ],
   "source": [
    "k.jump(1,0)\n",
    "k.jump(1,0)\n",
    "k.jump(1,0)\n",
    "print(k)"
   ]
  },
  {
   "cell_type": "markdown",
   "id": "ad851654",
   "metadata": {},
   "source": [
    "Q.4. Write function collatz() that takes a positive integer x as input and prints the Collatz sequence starting at x. A Collatz sequence is obtained by repeatedly applying this rule to the previous number x in the sequence:\n",
    "x = { 𝑥/2 𝑖𝑓 𝑥 𝑖𝑠 𝑒𝑣𝑒𝑛3𝑥+1 𝑖𝑓 𝑥 𝑖𝑠 𝑜𝑑𝑑\n",
    "Your function should stop when the sequence gets to number 1. Your implementation must be recursive, without any loops."
   ]
  },
  {
   "cell_type": "code",
   "execution_count": 293,
   "id": "92c12f71",
   "metadata": {},
   "outputs": [
    {
     "name": "stdout",
     "output_type": "stream",
     "text": [
      "10\n",
      "5\n",
      "16\n",
      "8\n",
      "4\n",
      "2\n",
      "1\n"
     ]
    }
   ],
   "source": [
    "def collatz(x):\n",
    "        \n",
    "    while x!= 1:\n",
    "        print(int (x))\n",
    "        \n",
    "        if x%2 == 0:\n",
    "            x=x/2\n",
    "        else:\n",
    "            x=3*x+1\n",
    "        \n",
    "    print(int(x))\n",
    "collatz(10)\n",
    "        "
   ]
  },
  {
   "cell_type": "code",
   "execution_count": 227,
   "id": "a52f5e1e",
   "metadata": {},
   "outputs": [
    {
     "name": "stdout",
     "output_type": "stream",
     "text": [
      "1\n"
     ]
    }
   ],
   "source": [
    "collatz(1)"
   ]
  },
  {
   "cell_type": "markdown",
   "id": "eafac24e",
   "metadata": {},
   "source": [
    "Q.5. Write a recursive method binary() that takes a non-negative integer n and prints the binary representation of integer n."
   ]
  },
  {
   "cell_type": "code",
   "execution_count": 235,
   "id": "c1b5f53f",
   "metadata": {},
   "outputs": [
    {
     "name": "stdout",
     "output_type": "stream",
     "text": [
      "1001"
     ]
    }
   ],
   "source": [
    "def binary(n):\n",
    "   if n > 1:\n",
    "            binary(n//2)\n",
    "   print(n % 2,end = '')                  \n",
    "\n",
    "\n",
    "binary(9)\n",
    "\n"
   ]
  },
  {
   "cell_type": "code",
   "execution_count": 231,
   "id": "af872619",
   "metadata": {},
   "outputs": [
    {
     "name": "stdout",
     "output_type": "stream",
     "text": [
      "1"
     ]
    }
   ],
   "source": [
    "binary(1)"
   ]
  },
  {
   "cell_type": "code",
   "execution_count": 232,
   "id": "3cc123ff",
   "metadata": {},
   "outputs": [
    {
     "name": "stdout",
     "output_type": "stream",
     "text": [
      "11"
     ]
    }
   ],
   "source": [
    "binary(3)"
   ]
  },
  {
   "cell_type": "markdown",
   "id": "8cd5de79",
   "metadata": {},
   "source": [
    "Q.6. Implement a class named HeadingParser that can be used to parse an HTML document, and retrieve and print all the headings in the document. You should implement your class as a subclass of HTMLParser, defined in Standard Library module html.parser. When fed a string containing HTML code, your class should print the headings, one per line and in the order in which they appear in the document. Each heading should be indented as follows: an h1 heading should have indentation 0, and h2 heading should have indentation 1, etc. Test your implementation using w3c.html."
   ]
  },
  {
   "cell_type": "code",
   "execution_count": 183,
   "id": "63997706",
   "metadata": {},
   "outputs": [
    {
     "name": "stdout",
     "output_type": "stream",
     "text": [
      "\n",
      "W3C Mission\n",
      "\n",
      "\n",
      " Principles\n",
      "\n"
     ]
    }
   ],
   "source": [
    "from html.parser import HTMLParser\n",
    "class HeadingParser(HTMLParser):\n",
    "        inHeading = False                         #This inHeading = False, I took reference from this https://gist.github.com/RobinDavid/9196709\n",
    "        inHeading2 = False\n",
    "        def handle_starttag(self, tag, attrs):    #Before inHeading, my code was showing whole data instead of just h1 and h2 data. Don't know why. \n",
    "                                                  #When I wrote this inHeading, suddenly it worked fine. \n",
    "            if tag == 'h1':\n",
    "                self.inHeading = True               \n",
    "                print (\"\")\n",
    "            if tag == 'h2':\n",
    "                self.inHeading2 = True               \n",
    "                print (\"\")\n",
    "                \n",
    "        def handle_endtag(self, tag):\n",
    "            if tag == 'h1':\n",
    "                self.inHeading = False\n",
    "                print(\"\")\n",
    "            if tag == 'h2':\n",
    "                self.inHeading2 = False\n",
    "                print(\"\")\n",
    "        \n",
    "        def handle_data(self, data):\n",
    "            if self.inHeading:\n",
    "                print(data)           #indentation 0\n",
    "            if self.inHeading2:\n",
    "                print(\"\",data)        #indentation 1\n",
    "    \n",
    "infile = open('w3c.html')\n",
    "content = infile.read()\n",
    "infile.close()  \n",
    "hp = HeadingParser()\n",
    "hp.feed(content)\n"
   ]
  },
  {
   "cell_type": "markdown",
   "id": "861dbcb4",
   "metadata": {},
   "source": [
    "Q.9. Suppose list words is defined as follows:\n",
    ">>> words = ['The', 'quick', 'brown', 'fox', 'jumps', 'over', 'the', 'lazy', 'dog']\n",
    "Write list comprehension expressions that use list words and generate the following lists:\n",
    "a) ['THE', 'QUICK', 'BROWN', 'FOX', 'JUMPS', 'OVER', 'THE', 'LAZY', 'DOG']\n",
    "b) ['the', 'quick', 'brown', 'fox', 'jumps', 'over', 'the', 'lazy', 'dog']\n",
    "c) [3, 5, 5, 3, 5, 4, 3, 4, 3] (the list of lengths of words in list words).\n",
    "d) [['THE', 'the', 3], ['QUICK', 'quick', 5], ['BROWN', 'brown', 5], ['FOX', 'fox', 3], ['JUMPS', 'jumps', 5], ['OVER', 'over', 4], ['THE', 'the', 3], ['LAZY', 'lazy', 4], ['DOG', 'dog', 3]] (the list containing a list for every word of list words, where each list contains the word in uppercase and lowercase and the length of the word.)\n",
    "e) ['The', 'quick', 'brown', 'fox', 'jumps', 'over', 'the', 'lazy', 'dog'] (the list of words in list words containing 4 or more characters.)"
   ]
  },
  {
   "cell_type": "code",
   "execution_count": 341,
   "id": "b0d9e268",
   "metadata": {},
   "outputs": [
    {
     "name": "stdout",
     "output_type": "stream",
     "text": [
      "['THE', 'QUICK', 'BROWN', 'FOX', 'JUMPS', 'OVER', 'THE', 'LAZY', 'DOG']\n",
      "['the', 'quick', 'brown', 'fox', 'jumps', 'over', 'the', 'lazy', 'dog']\n",
      "[3, 5, 5, 3, 5, 4, 3, 4, 3]\n",
      "[('THE', 'the', 3), ('QUICK', 'quick', 5), ('BROWN', 'brown', 5), ('FOX', 'fox', 3), ('JUMPS', 'jumps', 5), ('OVER', 'over', 4), ('THE', 'the', 3), ('LAZY', 'lazy', 4), ('DOG', 'dog', 3)]\n",
      "['quick', 'brown', 'jumps', 'over', 'lazy']\n"
     ]
    }
   ],
   "source": [
    "words = ['The', 'quick', 'brown', 'fox', 'jumps', 'over', 'the', 'lazy', 'dog']\n",
    "\n",
    "word1 = []\n",
    "for i in range(len(words)):\n",
    "    words[i] = words[i].upper()\n",
    "    word1.append(words[i])\n",
    "\n",
    "print(word1)\n",
    "\n",
    "word2 = []\n",
    "for j in range(len(words)):\n",
    "    words[j] = words[j].lower()\n",
    "    word2.append(words[j])\n",
    "\n",
    "print(word2)\n",
    "\n",
    "word3 = [] \n",
    "for i in words:\n",
    "    word3.append(len(i))\n",
    "print(word3)\n",
    "\n",
    "b = list(zip(word1,word2,word3))     #got to know about zip function from tutorialpoints. \n",
    "print(b)\n",
    "\n",
    "\n",
    "word4 = []\n",
    "\n",
    "for i in words:\n",
    "    if len(i)>=4:\n",
    "        word4.append(i)\n",
    "\n",
    "print(word4)\n",
    "        \n",
    "\n"
   ]
  },
  {
   "cell_type": "markdown",
   "id": "47949770",
   "metadata": {},
   "source": [
    "Q.7. Implement recursive function webdir() that takes as input: a URL (as a string) and non-negative integers depth and indent. Your function should visit every web page reachable from the starting URL web page in depth clicks or less, and print each web page's URL. As shown below, indentation, specified by indent, should be used to indicate the depth of a URL."
   ]
  },
  {
   "cell_type": "code",
   "execution_count": 68,
   "id": "63de0373",
   "metadata": {},
   "outputs": [
    {
     "name": "stdout",
     "output_type": "stream",
     "text": [
      "http://reed.cs.depaul.edu/lperkovic/test1.html\n",
      "in for http://reed.cs.depaul.edu/lperkovic/test2.html\n",
      "in for http://reed.cs.depaul.edu/lperkovic/test3.html\n"
     ]
    }
   ],
   "source": [
    "from urllib.request import urlopen\n",
    "from urllib.parse import urljoin\n",
    "from re import findall \n",
    "from html.parser import HTMLParser\n",
    "import textwrap\n",
    "textwrap.indent\n",
    "visited = set()\n",
    "\n",
    "\n",
    "def indent(text, amount, ch='    '):\n",
    "        return textwrap.indent(text, amount * ch)\n",
    "\n",
    "def webdir(url):\n",
    "    \n",
    "    \n",
    "    global visited     \n",
    "    visited.add(url)\n",
    "    print(url)\n",
    "    \n",
    "    links = depth(url)\n",
    "\n",
    "    \n",
    "    for link in links:\n",
    "    \n",
    "       \n",
    "        print(\"in for \"+link)\n",
    "        if link not in visited:\n",
    "            try:\n",
    "                \n",
    "                crawl2(link)\n",
    "            except:\n",
    "                pass\n",
    "\n",
    "def depth(url):\n",
    "    \n",
    "   \n",
    "    content = urlopen(url).read().decode()\n",
    "    collector = Collector(url)\n",
    "    collector.feed(content)\n",
    "    urls = collector.getLinks()          \n",
    "\n",
    "    return urls \n",
    "\n",
    "class Collector(HTMLParser):\n",
    "  \n",
    "\n",
    "    def __init__(self, url):\n",
    "       \n",
    "        HTMLParser.__init__(self)\n",
    "        self.url = url\n",
    "        self.links = []\n",
    "\n",
    "    \n",
    "    def handle_starttag(self, tag, attrs):\n",
    "        \n",
    "        if tag == 'a':\n",
    "            for attr in attrs:\n",
    "                if attr[0] == 'href':\n",
    "                    \n",
    "                    absolute = urljoin(self.url, attr[1])\n",
    "                    if absolute[:4] == 'http': \n",
    "                        self.links.append(absolute)\n",
    "                        \n",
    "    def getLinks(self):\n",
    "       \n",
    "        return self.links\n",
    "\n",
    "webdir('http://reed.cs.depaul.edu/lperkovic/test1.html')\n",
    "\n"
   ]
  },
  {
   "cell_type": "code",
   "execution_count": 342,
   "id": "99bbbcf2",
   "metadata": {},
   "outputs": [
    {
     "name": "stdout",
     "output_type": "stream",
     "text": [
      "Collecting ipython-sql\n",
      "  Downloading ipython_sql-0.4.0-py3-none-any.whl (19 kB)\n",
      "Requirement already satisfied: ipython-genutils>=0.1.0 in /Users/farazkhan/opt/anaconda3/lib/python3.9/site-packages (from ipython-sql) (0.2.0)\n",
      "Collecting prettytable<1\n",
      "  Downloading prettytable-0.7.2.zip (28 kB)\n",
      "Requirement already satisfied: ipython>=1.0 in /Users/farazkhan/opt/anaconda3/lib/python3.9/site-packages (from ipython-sql) (7.29.0)\n",
      "Collecting sqlparse\n",
      "  Downloading sqlparse-0.4.2-py3-none-any.whl (42 kB)\n",
      "\u001b[K     |████████████████████████████████| 42 kB 4.5 MB/s  eta 0:00:01\n",
      "\u001b[?25hRequirement already satisfied: six in /Users/farazkhan/opt/anaconda3/lib/python3.9/site-packages (from ipython-sql) (1.16.0)\n",
      "Requirement already satisfied: sqlalchemy>=0.6.7 in /Users/farazkhan/opt/anaconda3/lib/python3.9/site-packages (from ipython-sql) (1.4.22)\n",
      "Requirement already satisfied: decorator in /Users/farazkhan/opt/anaconda3/lib/python3.9/site-packages (from ipython>=1.0->ipython-sql) (5.1.0)\n",
      "Requirement already satisfied: pygments in /Users/farazkhan/opt/anaconda3/lib/python3.9/site-packages (from ipython>=1.0->ipython-sql) (2.10.0)\n",
      "Requirement already satisfied: pexpect>4.3 in /Users/farazkhan/opt/anaconda3/lib/python3.9/site-packages (from ipython>=1.0->ipython-sql) (4.8.0)\n",
      "Requirement already satisfied: appnope in /Users/farazkhan/opt/anaconda3/lib/python3.9/site-packages (from ipython>=1.0->ipython-sql) (0.1.2)\n",
      "Requirement already satisfied: traitlets>=4.2 in /Users/farazkhan/opt/anaconda3/lib/python3.9/site-packages (from ipython>=1.0->ipython-sql) (5.1.0)\n",
      "Requirement already satisfied: backcall in /Users/farazkhan/opt/anaconda3/lib/python3.9/site-packages (from ipython>=1.0->ipython-sql) (0.2.0)\n",
      "Requirement already satisfied: matplotlib-inline in /Users/farazkhan/opt/anaconda3/lib/python3.9/site-packages (from ipython>=1.0->ipython-sql) (0.1.2)\n",
      "Requirement already satisfied: prompt-toolkit!=3.0.0,!=3.0.1,<3.1.0,>=2.0.0 in /Users/farazkhan/opt/anaconda3/lib/python3.9/site-packages (from ipython>=1.0->ipython-sql) (3.0.20)\n",
      "Requirement already satisfied: setuptools>=18.5 in /Users/farazkhan/opt/anaconda3/lib/python3.9/site-packages (from ipython>=1.0->ipython-sql) (58.0.4)\n",
      "Requirement already satisfied: jedi>=0.16 in /Users/farazkhan/opt/anaconda3/lib/python3.9/site-packages (from ipython>=1.0->ipython-sql) (0.18.0)\n",
      "Requirement already satisfied: pickleshare in /Users/farazkhan/opt/anaconda3/lib/python3.9/site-packages (from ipython>=1.0->ipython-sql) (0.7.5)\n",
      "Requirement already satisfied: parso<0.9.0,>=0.8.0 in /Users/farazkhan/opt/anaconda3/lib/python3.9/site-packages (from jedi>=0.16->ipython>=1.0->ipython-sql) (0.8.2)\n",
      "Requirement already satisfied: ptyprocess>=0.5 in /Users/farazkhan/opt/anaconda3/lib/python3.9/site-packages (from pexpect>4.3->ipython>=1.0->ipython-sql) (0.7.0)\n",
      "Requirement already satisfied: wcwidth in /Users/farazkhan/opt/anaconda3/lib/python3.9/site-packages (from prompt-toolkit!=3.0.0,!=3.0.1,<3.1.0,>=2.0.0->ipython>=1.0->ipython-sql) (0.2.5)\n",
      "Requirement already satisfied: greenlet!=0.4.17 in /Users/farazkhan/opt/anaconda3/lib/python3.9/site-packages (from sqlalchemy>=0.6.7->ipython-sql) (1.1.1)\n",
      "Building wheels for collected packages: prettytable\n",
      "  Building wheel for prettytable (setup.py) ... \u001b[?25ldone\n",
      "\u001b[?25h  Created wheel for prettytable: filename=prettytable-0.7.2-py3-none-any.whl size=13714 sha256=aec826c0b434757ffe56ba6bc5d14c44fdf54c5a7903fa79fae0d0ec7bff64ca\n",
      "  Stored in directory: /Users/farazkhan/Library/Caches/pip/wheels/75/f7/28/77a076f1fa8cbeda61aca712815d04d7a32435f04a26a2dd7b\n",
      "Successfully built prettytable\n",
      "Installing collected packages: sqlparse, prettytable, ipython-sql\n",
      "Successfully installed ipython-sql-0.4.0 prettytable-0.7.2 sqlparse-0.4.2\n"
     ]
    }
   ],
   "source": [
    " !pip install ipython-sql"
   ]
  },
  {
   "cell_type": "markdown",
   "id": "623ca996",
   "metadata": {},
   "source": [
    "Q.8. Write SQL queries on the below database table that return:\n",
    "a) All the temperature data.\n",
    "b) All the cities, but without repetition.\n",
    "c) All the records for India.\n",
    "d) All the Fall records.\n",
    "e) The city, country, and season for which the average rainfall is between 200 and 400 millimeters.\n",
    "f) The city and country for which the average Fall temperature is above 20 degrees, in increasing temperature order.\n",
    "g) The total annual rainfall for Cairo.\n",
    "h) The total rainfall for each season."
   ]
  },
  {
   "cell_type": "code",
   "execution_count": 44,
   "id": "419f29c7",
   "metadata": {},
   "outputs": [
    {
     "name": "stdout",
     "output_type": "stream",
     "text": [
      "Table created successfully\n"
     ]
    }
   ],
   "source": [
    "\n",
    "\n",
    "import sqlite3\n",
    "\n",
    "conn = sqlite3.connect('web.db')                  #learnt how sql works in python from tutorialspoint. https://www.tutorialspoint.com/sqlite/sqlite_python.htm\n",
    "\n",
    "conn.execute('''CREATE TABLE ASSIGNMENT\n",
    "         (CITY NVARCHAR(50)     NOT NULL,\n",
    "         COUNTRY NVARCHAR(50)   NOT NULL,\n",
    "         SEASON NVARCHAR(50)    NOT NULL,\n",
    "         TEMPERATURE REAL,\n",
    "         RAINFALL    REAL);''')\n",
    "print (\"Table created successfully\");"
   ]
  },
  {
   "cell_type": "code",
   "execution_count": 45,
   "id": "bdd375d0",
   "metadata": {},
   "outputs": [
    {
     "name": "stdout",
     "output_type": "stream",
     "text": [
      "Opened database successfully\n"
     ]
    }
   ],
   "source": [
    "conn = sqlite3.connect('web.db')\n",
    "print (\"Opened database successfully\");\n",
    "\n",
    "conn.execute(\"INSERT INTO ASSIGNMENT (CITY,COUNTRY,SEASON,TEMPERATURE,RAINFALL) \\\n",
    "      VALUES ('Mumbai', 'India', 'Winter', 24.8 , 5.9 )\");\n",
    "\n",
    "conn.execute(\"INSERT INTO ASSIGNMENT (CITY,COUNTRY,SEASON,TEMPERATURE,RAINFALL) \\\n",
    "      VALUES ('Mumbai', 'India', 'Spring', 28.4 , 16.2 )\");\n",
    "\n",
    "conn.execute(\"INSERT INTO ASSIGNMENT (CITY,COUNTRY,SEASON,TEMPERATURE,RAINFALL) \\\n",
    "      VALUES ('Mumbai', 'India', 'Summer', 27.9 , 1549.4 )\");\n",
    "\n",
    "conn.execute(\"INSERT INTO ASSIGNMENT (CITY,COUNTRY,SEASON,TEMPERATURE,RAINFALL) \\\n",
    "      VALUES ('Mumbai', 'India', 'Fall', 27.6 , 346.0 )\");\n",
    "\n",
    "conn.execute(\"INSERT INTO ASSIGNMENT (CITY,COUNTRY,SEASON,TEMPERATURE,RAINFALL) \\\n",
    "      VALUES ('London', 'United Kingdom', 'Winter', 4.2 , 207.7 )\");\n",
    "\n",
    "conn.execute(\"INSERT INTO ASSIGNMENT (CITY,COUNTRY,SEASON,TEMPERATURE,RAINFALL) \\\n",
    "      VALUES ('London', 'United Kingdom', 'Spring', 8.3 , 169.6 )\");\n",
    "\n",
    "conn.execute(\"INSERT INTO ASSIGNMENT (CITY,COUNTRY,SEASON,TEMPERATURE,RAINFALL) \\\n",
    "      VALUES ('London', 'United Kingdom', 'Summer', 15.7 , 157.0 )\");\n",
    "\n",
    "conn.execute(\"INSERT INTO ASSIGNMENT (CITY,COUNTRY,SEASON,TEMPERATURE,RAINFALL) \\\n",
    "      VALUES ('London', 'United Kingdom', 'Fall', 10.4 , 218.5 )\");\n",
    "\n",
    "conn.execute(\"INSERT INTO ASSIGNMENT (CITY,COUNTRY,SEASON,TEMPERATURE,RAINFALL) \\\n",
    "      VALUES ('Cairo', 'Egypt', 'Winter', 13.6 , 16.5 )\");\n",
    "\n",
    "conn.execute(\"INSERT INTO ASSIGNMENT (CITY,COUNTRY,SEASON,TEMPERATURE,RAINFALL) \\\n",
    "      VALUES ('Cairo', 'Egypt', 'Spring', 20.7 , 6.5 )\");\n",
    "\n",
    "conn.execute(\"INSERT INTO ASSIGNMENT (CITY,COUNTRY,SEASON,TEMPERATURE,RAINFALL) \\\n",
    "      VALUES ('Cairo', 'Egypt', 'Summer', 27.7 , 0.1 )\");\n",
    "\n",
    "conn.execute(\"INSERT INTO ASSIGNMENT (CITY,COUNTRY,SEASON,TEMPERATURE,RAINFALL) \\\n",
    "      VALUES ('Cairo', 'Egypt', 'Fall', 22.2 , 4.5 )\");\n",
    " \n",
    "conn.commit()"
   ]
  },
  {
   "cell_type": "code",
   "execution_count": 46,
   "id": "c00b4337",
   "metadata": {},
   "outputs": [
    {
     "name": "stdout",
     "output_type": "stream",
     "text": [
      "Opened database successfully\n",
      "('Mumbai', 'India', 'Winter', 24.8, 5.9)\n",
      "('Mumbai', 'India', 'Spring', 28.4, 16.2)\n",
      "('Mumbai', 'India', 'Summer', 27.9, 1549.4)\n",
      "('Mumbai', 'India', 'Fall', 27.6, 346.0)\n",
      "('London', 'United Kingdom', 'Winter', 4.2, 207.7)\n",
      "('London', 'United Kingdom', 'Spring', 8.3, 169.6)\n",
      "('London', 'United Kingdom', 'Summer', 15.7, 157.0)\n",
      "('London', 'United Kingdom', 'Fall', 10.4, 218.5)\n",
      "('Cairo', 'Egypt', 'Winter', 13.6, 16.5)\n",
      "('Cairo', 'Egypt', 'Spring', 20.7, 6.5)\n",
      "('Cairo', 'Egypt', 'Summer', 27.7, 0.1)\n",
      "('Cairo', 'Egypt', 'Fall', 22.2, 4.5)\n"
     ]
    }
   ],
   "source": [
    "import sqlite3\n",
    "\n",
    "conn = sqlite3.connect('web.db')\n",
    "print (\"Opened database successfully\");\n",
    "\n",
    "cursor = conn.execute(\"SELECT CITY, COUNTRY, SEASON, TEMPERATURE, RAINFALL from ASSIGNMENT\")\n",
    "\n",
    "myresult = cursor.fetchall()\n",
    "\n",
    "for x in myresult:\n",
    "    print(x)"
   ]
  },
  {
   "cell_type": "code",
   "execution_count": 47,
   "id": "74d1c60f",
   "metadata": {},
   "outputs": [
    {
     "name": "stdout",
     "output_type": "stream",
     "text": [
      "All the temperature data\n",
      "(24.8,)\n",
      "(28.4,)\n",
      "(27.9,)\n",
      "(27.6,)\n",
      "(4.2,)\n",
      "(8.3,)\n",
      "(15.7,)\n",
      "(10.4,)\n",
      "(13.6,)\n",
      "(20.7,)\n",
      "(27.7,)\n",
      "(22.2,)\n"
     ]
    }
   ],
   "source": [
    "import sqlite3\n",
    "\n",
    "conn = sqlite3.connect('web.db')\n",
    "print (\"All the temperature data\");     #8(a)     \n",
    "\n",
    "cursor = conn.execute(\"SELECT TEMPERATURE from ASSIGNMENT\")\n",
    "\n",
    "myresult = cursor.fetchall()\n",
    "\n",
    "for x in myresult:\n",
    "    print(x)"
   ]
  },
  {
   "cell_type": "code",
   "execution_count": 49,
   "id": "2cb4e81f",
   "metadata": {},
   "outputs": [
    {
     "name": "stdout",
     "output_type": "stream",
     "text": [
      "All the cities without repetition\n",
      "('Mumbai',)\n",
      "('London',)\n",
      "('Cairo',)\n"
     ]
    }
   ],
   "source": [
    "import sqlite3\n",
    "\n",
    "conn = sqlite3.connect('web.db')\n",
    "print (\"All the cities without repetition\");     #8(b)     \n",
    "\n",
    "cursor = conn.execute(\"SELECT DISTINCT CITY from ASSIGNMENT\")\n",
    "\n",
    "myresult = cursor.fetchall()\n",
    "\n",
    "for x in myresult:\n",
    "    print(x)"
   ]
  },
  {
   "cell_type": "code",
   "execution_count": 53,
   "id": "e2860a9d",
   "metadata": {},
   "outputs": [
    {
     "name": "stdout",
     "output_type": "stream",
     "text": [
      "All the records for India.\n",
      "('Mumbai', 'India', 'Winter', 24.8, 5.9)\n",
      "('Mumbai', 'India', 'Spring', 28.4, 16.2)\n",
      "('Mumbai', 'India', 'Summer', 27.9, 1549.4)\n",
      "('Mumbai', 'India', 'Fall', 27.6, 346.0)\n"
     ]
    }
   ],
   "source": [
    "import sqlite3\n",
    "\n",
    "conn = sqlite3.connect('web.db')\n",
    "print (\"All the records for India.\");     #8(c)     \n",
    "\n",
    "cursor = conn.execute(\"SELECT * from ASSIGNMENT WHERE COUNTRY = 'India'\")\n",
    "\n",
    "myresult = cursor.fetchall()\n",
    "\n",
    "for x in myresult:\n",
    "    print(x)"
   ]
  },
  {
   "cell_type": "code",
   "execution_count": 54,
   "id": "61c30e3b",
   "metadata": {},
   "outputs": [
    {
     "name": "stdout",
     "output_type": "stream",
     "text": [
      "All the Fall records.\n",
      "('Mumbai', 'India', 'Fall', 27.6, 346.0)\n",
      "('London', 'United Kingdom', 'Fall', 10.4, 218.5)\n",
      "('Cairo', 'Egypt', 'Fall', 22.2, 4.5)\n"
     ]
    }
   ],
   "source": [
    "import sqlite3\n",
    "\n",
    "conn = sqlite3.connect('web.db')\n",
    "print (\"All the Fall records.\");     #8(d)     \n",
    "\n",
    "cursor = conn.execute(\"SELECT * from ASSIGNMENT WHERE SEASON = 'Fall'\")\n",
    "\n",
    "myresult = cursor.fetchall()\n",
    "\n",
    "for x in myresult:\n",
    "    print(x)"
   ]
  },
  {
   "cell_type": "code",
   "execution_count": 55,
   "id": "908fddda",
   "metadata": {},
   "outputs": [
    {
     "name": "stdout",
     "output_type": "stream",
     "text": [
      "The city, country, and season for which the average rainfall is between 200 and 400 millimeters.\n",
      "('Mumbai', 'India', 'Fall')\n",
      "('London', 'United Kingdom', 'Winter')\n",
      "('London', 'United Kingdom', 'Fall')\n"
     ]
    }
   ],
   "source": [
    "import sqlite3\n",
    "\n",
    "conn = sqlite3.connect('web.db')\n",
    "print (\"The city, country, and season for which the average rainfall is between 200 and 400 millimeters.\"); #8(e)     \n",
    "\n",
    "cursor = conn.execute(\"SELECT CITY, COUNTRY, SEASON from ASSIGNMENT WHERE RAINFALL BETWEEN 200 AND 400\")\n",
    "\n",
    "myresult = cursor.fetchall()\n",
    "\n",
    "for x in myresult:\n",
    "    print(x)"
   ]
  },
  {
   "cell_type": "code",
   "execution_count": 58,
   "id": "6879d273",
   "metadata": {},
   "outputs": [
    {
     "name": "stdout",
     "output_type": "stream",
     "text": [
      "The city and country for which the average Fall temperature is above 20 degrees, in increasing temperature order..\n",
      "('Cairo', 'Egypt')\n",
      "('Mumbai', 'India')\n"
     ]
    }
   ],
   "source": [
    "import sqlite3\n",
    "\n",
    "conn = sqlite3.connect('web.db')\n",
    "print (\"The city and country for which the average Fall temperature is above 20 degrees, in increasing temperature order..\"); #8(f)     \n",
    "\n",
    "cursor = conn.execute(\"SELECT CITY, COUNTRY from ASSIGNMENT WHERE SEASON = 'Fall' AND TEMPERATURE>20 ORDER BY TEMPERATURE ASC\")\n",
    "\n",
    "myresult = cursor.fetchall()\n",
    "\n",
    "for x in myresult:\n",
    "    print(x)"
   ]
  },
  {
   "cell_type": "code",
   "execution_count": 59,
   "id": "f0966d8e",
   "metadata": {},
   "outputs": [
    {
     "name": "stdout",
     "output_type": "stream",
     "text": [
      "The total annual rainfall for Cairo.\n",
      "(27.6,)\n"
     ]
    }
   ],
   "source": [
    "import sqlite3\n",
    "\n",
    "conn = sqlite3.connect('web.db')\n",
    "print (\"The total annual rainfall for Cairo.\");     #8(g)     \n",
    "\n",
    "cursor = conn.execute(\"SELECT SUM(RAINFALL) from ASSIGNMENT WHERE CITY = 'Cairo'\")\n",
    "\n",
    "myresult = cursor.fetchall()\n",
    "\n",
    "for x in myresult:\n",
    "    print(x)"
   ]
  },
  {
   "cell_type": "code",
   "execution_count": 66,
   "id": "07375364",
   "metadata": {},
   "outputs": [
    {
     "name": "stdout",
     "output_type": "stream",
     "text": [
      "The total rainfall for each season.\n",
      "(2697.8999999999996,)\n"
     ]
    }
   ],
   "source": [
    "import sqlite3\n",
    "\n",
    "conn = sqlite3.connect('web.db')\n",
    "print (\"The total rainfall for each season.\");     #8(h)     \n",
    "\n",
    "cursor = conn.execute(\"SELECT SUM(RAINFALL) SEASON from ASSIGNMENT\")\n",
    "\n",
    "myresult = cursor.fetchall()\n",
    "\n",
    "for x in myresult:\n",
    "    print(x)"
   ]
  },
  {
   "cell_type": "code",
   "execution_count": null,
   "id": "7a87a1e5",
   "metadata": {},
   "outputs": [],
   "source": []
  }
 ],
 "metadata": {
  "kernelspec": {
   "display_name": "Python 3 (ipykernel)",
   "language": "python",
   "name": "python3"
  },
  "language_info": {
   "codemirror_mode": {
    "name": "ipython",
    "version": 3
   },
   "file_extension": ".py",
   "mimetype": "text/x-python",
   "name": "python",
   "nbconvert_exporter": "python",
   "pygments_lexer": "ipython3",
   "version": "3.9.7"
  }
 },
 "nbformat": 4,
 "nbformat_minor": 5
}
